{
 "cells": [
  {
   "cell_type": "markdown",
   "id": "b6fcbbed-17ff-418f-9468-fe09ebc82b8c",
   "metadata": {},
   "source": [
    "\n",
    "# **Shortest Path Problem**\n",
    "\n",
    "This notebook demonstrates how to solve the shortest path problem using variational mechanics.\n",
    "\n",
    "---\n",
    "\n",
    "### **Problem Setup**\n",
    "\n",
    "We want to find the path \\( y(x) \\) between two points that minimizes the total distance traveled. The length of a curve in Cartesian coordinates is given by:\n",
    "\\[\n",
    "J[y] = \\int_a^b \\sqrt{1 + \\left( y'(x) \\right)^2} dx\n",
    "\\]\n",
    "\n",
    "---\n",
    "\n",
    "### **Steps to Solve**\n",
    "\n",
    "1. Derive the governing equation using the **Euler-Lagrange equation**:\n",
    "   \\[\n",
    "   \\frac{\\partial F}{\\partial y} - \\frac{d}{dx} \\left( \\frac{\\partial F}{\\partial y'} \\right) = 0\n",
    "   \\]\n",
    "   where \\( F = \\sqrt{1 + \\left( y' \\right)^2} \\).\n",
    "\n",
    "2. Solve the resulting ODE numerically using a C++ solver:\n",
    "   \\[\n",
    "   \\frac{d}{dx} \\left( \\frac{y'}{\\sqrt{1 + \\left( y' \\right)^2}} \\right) = 0\n",
    "   \\]\n",
    "\n",
    "3. Visualize the solution \\( y(x) \\).\n",
    "\n",
    "---\n",
    "\n",
    "### **Boundary Conditions**\n",
    "\n",
    "Let:\n",
    "- Start point: \\( (x_0, y_0) = (0, 0) \\)\n",
    "- End point: \\( (x_1, y_1) = (1, 1) \\)\n",
    "\n",
    "We expect the solution to be a straight line:\n",
    "\\[\n",
    "y(x) = x\n",
    "\\]\n"
   ]
  },
  {
   "cell_type": "code",
   "execution_count": 20,
   "id": "63bc796b-2ed3-4776-8465-aeb9dee60ff2",
   "metadata": {},
   "outputs": [
    {
     "name": "stdout",
     "output_type": "stream",
     "text": [
      "Updated Working Directory: /home/turing/MechanicsSphere\n",
      "Updated Python Path: ['/usr/lib/python312.zip', '/usr/lib/python3.12', '/usr/lib/python3.12/lib-dynload', '', '/home/turing/MechanicsSphere/mechanics_env/lib/python3.12/site-packages', '/home/turing/MechanicsSphere/src', 'src', 'src']\n"
     ]
    }
   ],
   "source": [
    "import os\n",
    "import sys\n",
    "from pathlib import Path\n",
    "\n",
    "# change working directory\n",
    "os.chdir(\"/home/turing/MechanicsSphere\")\n",
    "print(\"Updated Working Directory:\", os.getcwd())\n",
    "\n",
    "# Add src to path\n",
    "src_path = Path(\"src\")\n",
    "sys.path.append(str(src_path))\n",
    "\n",
    "# Verify new path\n",
    "print(\"Updated Python Path:\", sys.path)\n",
    "\n",
    "# Import the symbolic solver from the src folder\n",
    "from symbolic_solver import euler_lagrange\n",
    "import sympy as sp\n"
   ]
  },
  {
   "cell_type": "code",
   "execution_count": 21,
   "id": "aeb5c3bc-df12-4f33-ae56-ab83e8af742a",
   "metadata": {},
   "outputs": [
    {
     "name": "stdout",
     "output_type": "stream",
     "text": [
      "Euler-Lagrange equation saved to euler_lagrande_output.txt\n",
      "Euler-Lagrange Equation: -Derivative(y(x), (x, 2))/(Derivative(y(x), x)**2 + 1)**(3/2)\n"
     ]
    }
   ],
   "source": [
    "# Define variables and the functional\n",
    "x = sp.Symbol('x')  # Independent variable\n",
    "y = sp.Function('y')(x)  # Dependent variable\n",
    "functional = sp.sqrt(1 + sp.diff(y, x)**2)  # Arc length functional\n",
    "\n",
    "# Derive the Euler-Lagrange equation\n",
    "euler_eq = euler_lagrange(functional, y, x, save_to_file=True)\n",
    "\n",
    "# Display the EL  equation\n",
    "print(f\"Euler-Lagrange Equation: {euler_eq}\")"
   ]
  },
  {
   "cell_type": "markdown",
   "id": "34c39ba2-0e34-483a-9dce-8c77f3eb5e43",
   "metadata": {},
   "source": [
    "### Running the C++ Solver\n",
    "\n",
    "The Euler-Lagrange equation simplifies to \\( y' = \\text{constant} \\), which can be solved numerically as a straight-line equation using the C++ solver.\n",
    "\n",
    "Below, we:\n",
    "1. Compile the C++ code located in `src/numerical_solver.cpp`.\n",
    "2. Run the compiled executable to generate the numerical solution.\n",
    "3. Save the results to `shortest_path_solution.csv`.\n"
   ]
  },
  {
   "cell_type": "code",
   "execution_count": 17,
   "id": "97e81478-bdd5-43e2-9186-6c6647a0dd9b",
   "metadata": {},
   "outputs": [
    {
     "name": "stdout",
     "output_type": "stream",
     "text": [
      "C++ solver compiled successfully.\n",
      "Solution saved to shortest_path_solution.csv\n",
      "C++ solver executed successfully.\n"
     ]
    }
   ],
   "source": [
    "import subprocess\n",
    "\n",
    "# Compile the C++ code\n",
    "compile_result = subprocess.run([\"g++\", \"-o\", \"src/numerical_solver\", \"src/numerical_solver.cpp\"])\n",
    "if compile_result.returncode == 0:\n",
    "    print(\"C++ solver compiled successfully.\")\n",
    "else:\n",
    "    print(\"Error during compilation. Check src/numerical_solver.cpp\")\n",
    "\n",
    "# Run the compiled executable\n",
    "try:\n",
    "    run_result = subprocess.run([\"./src/numerical_solver\"], check=True)\n",
    "    print(\"C++ solver executed successfully.\")\n",
    "except subprocess.CalledProcessError as e:\n",
    "    print(f\"Error during execution: {e}\")\n"
   ]
  },
  {
   "cell_type": "code",
   "execution_count": 18,
   "id": "8c453b94-1bb0-405b-bef7-4088649c5142",
   "metadata": {},
   "outputs": [
    {
     "name": "stdout",
     "output_type": "stream",
     "text": [
      "Numerical Solution (First 5 Rows):\n",
      "      x     y\n",
      "0  0.00  0.00\n",
      "1  0.01  0.01\n",
      "2  0.02  0.02\n",
      "3  0.03  0.03\n",
      "4  0.04  0.04\n"
     ]
    }
   ],
   "source": [
    "import pandas as pd\n",
    "\n",
    "# Path to the output CSV file\n",
    "file_path = \"src/shortest_path_solution.csv\"\n",
    "\n",
    "# Load the solution into a Pandas DataFrame\n",
    "try:\n",
    "    data = pd.read_csv(file_path)\n",
    "    print(\"Numerical Solution (First 5 Rows):\")\n",
    "    print(data.head())  # Display the first few rows\n",
    "except FileNotFoundError:\n",
    "    print(f\"Error: File not found at {file_path}. Ensure the solver outputs the file correctly.\")\n"
   ]
  },
  {
   "cell_type": "code",
   "execution_count": 19,
   "id": "f38986c3-35b0-4a80-bf7b-afbb7d5d1f41",
   "metadata": {},
   "outputs": [
    {
     "data": {
      "image/png": "[encoded data removed]",
      "text/plain": [
       "<Figure size 800x600 with 1 Axes>"
      ]
     },
     "metadata": {},
     "output_type": "display_data"
    }
   ],
   "source": [
    "import matplotlib.pyplot as plt\n",
    "\n",
    "# Plot the numerical solution\n",
    "plt.figure(figsize=(8, 6))\n",
    "plt.plot(data[\"x\"], data[\"y\"], label=\"Numerical Solution\", color=\"blue\")\n",
    "plt.xlabel(\"x\")\n",
    "plt.ylabel(\"y(x)\")\n",
    "plt.title(\"Shortest Path Solution\")\n",
    "plt.legend()\n",
    "plt.grid()\n",
    "plt.show()"
   ]
  },
  {
   "cell_type": "markdown",
   "id": "7cb24968-1890-42f8-b4cb-089892fc4ba6",
   "metadata": {},
   "source": [
    "### **Interpretation**\n",
    "\n",
    "The numerical solution matches the expected analytical result: a straight line, \\( y(x) = x \\).\n",
    "\n",
    "This confirms that the variational approach correctly solves the shortest path problem. The Euler-Lagrange equation derived from the functional produces a first-order ODE, which can be solved numerically using simple methods like Euler integration.\n"
   ]
  },
  {
   "cell_type": "code",
   "execution_count": null,
   "id": "efd08093-6921-49a3-bc04-a237116a6285",
   "metadata": {},
   "outputs": [],
   "source": []
  }
 ],
 "metadata": {
  "kernelspec": {
   "display_name": "Python 3 (ipykernel)",
   "language": "python",
   "name": "python3"
  },
  "language_info": {
   "codemirror_mode": {
    "name": "ipython",
    "version": 3
   },
   "file_extension": ".py",
   "mimetype": "text/x-python",
   "name": "python",
   "nbconvert_exporter": "python",
   "pygments_lexer": "ipython3",
   "version": "3.12.3"
  }
 },
 "nbformat": 4,
 "nbformat_minor": 5
}
